{
 "cells": [
  {
   "cell_type": "markdown",
   "id": "5609a94f",
   "metadata": {},
   "source": [
    "# Wind Farm Generation Analysis\n",
    "\n",
    "This notebook demonstrates how to calculate potential wind power generation using ERA5 climate data. We'll use wind speed data at 100m height to estimate power output for a hypothetical wind farm\n",
    "\n",
    "## Overview of the Process\n",
    "\n",
    "- Connect to IPFS nodes to access climate data\n",
    "\n",
    "- Install required packages\n",
    "\n",
    "- Load ERA5 wind data (u and v components)\n",
    "\n",
    "- Extract data for our wind farm location\n",
    "\n",
    "- Apply a wind turbine power curve to calculate generation\n",
    "\n",
    "- Visualize and analyze the results"
   ]
  },
  {
   "cell_type": "markdown",
   "id": "1b74a215",
   "metadata": {},
   "source": [
    "## 1. IPFS Connection\n",
    "\n",
    "First, we connect to IPFS (InterPlanetary File System) nodes that host our climate data. This distributed storage system allows efficient access to large climate datasets."
   ]
  },
  {
   "cell_type": "code",
   "execution_count": 1,
   "id": "27b35ab4-6b8f-442c-bed1-790f8c1e5c01",
   "metadata": {},
   "outputs": [
    {
     "name": "stdout",
     "output_type": "stream",
     "text": [
      "ipfs version 0.33.1\n"
     ]
    }
   ],
   "source": [
    "!ipfs version"
   ]
  },
  {
   "cell_type": "code",
   "execution_count": 2,
   "id": "eeb7c0ae-f4bb-4605-8be9-ce1d0cd9ae10",
   "metadata": {},
   "outputs": [
    {
     "name": "stdout",
     "output_type": "stream",
     "text": [
      "add 12D3KooWHdZM98wcuyGorE184exFrPEJWv2btXWWSHLQaqwZXuPe success\n",
      "add 12D3KooWGX5HDDjbdiJL2QYf2f7Kjp1Bj6QAXR5vFvLQniTKwoBR success\n",
      "add 12D3KooWEaVCpKd2MgZeLugvwCWRSQAMYWdu6wNG6SySQsgox8k5 success\n"
     ]
    }
   ],
   "source": [
    "# Fluorine Node\n",
    "!ipfs swarm peering add \"/ip4/15.235.14.184/udp/4001/quic-v1/p2p/12D3KooWHdZM98wcuyGorE184exFrPEJWv2btXWWSHLQaqwZXuPe\"\n",
    "\n",
    "# Cerium Node\n",
    "!ipfs swarm peering add \"/ip4/15.235.86.198/udp/4001/quic-v1/p2p/12D3KooWGX5HDDjbdiJL2QYf2f7Kjp1Bj6QAXR5vFvLQniTKwoBR\"\n",
    "\n",
    "# Bismuth Node\n",
    "!ipfs swarm peering add \"/ip4/40.160.21.102/udp/4001/quic-v1/p2p/12D3KooWEaVCpKd2MgZeLugvwCWRSQAMYWdu6wNG6SySQsgox8k5\""
   ]
  },
  {
   "cell_type": "markdown",
   "id": "a300dfc7",
   "metadata": {},
   "source": [
    "## 2. Package Installation\n",
    "\n",
    "We'll install the necessary Python packages for data analysis and visualization:"
   ]
  },
  {
   "cell_type": "code",
   "execution_count": 3,
   "id": "021a9d29-34ed-46a3-9b75-514c1afadadc",
   "metadata": {},
   "outputs": [
    {
     "name": "stdout",
     "output_type": "stream",
     "text": [
      "\u001b[2mUsing Python 3.12.7 environment at: /opt/venv\u001b[0m\n",
      "\u001b[2K\u001b[2mResolved \u001b[1m54 packages\u001b[0m \u001b[2min 5.49s\u001b[0m\u001b[0m                                        \u001b[0m\n",
      "\u001b[2K\u001b[2mPrepared \u001b[1m43 packages\u001b[0m \u001b[2min 47.37s\u001b[0m\u001b[0m                                           \n",
      "\u001b[2K░░░░░░░░░░░░░░░░░░░░ [0/43] \u001b[2mInstalling wheels...                                \u001b[0m\u001b[1m\u001b[33mwarning\u001b[39m\u001b[0m\u001b[1m:\u001b[0m \u001b[1mFailed to hardlink files; falling back to full copy. This may lead to degraded performance.\n",
      "         If the cache and target directories are on different filesystems, hardlinking may not be supported.\n",
      "         If this is intentional, set `export UV_LINK_MODE=copy` or use `--link-mode=copy` to suppress this warning.\u001b[0m\n",
      "\u001b[2K\u001b[2mInstalled \u001b[1m43 packages\u001b[0m \u001b[2min 324ms\u001b[0m\u001b[0m                              \u001b[0m\n",
      " \u001b[32m+\u001b[39m \u001b[1masciitree\u001b[0m\u001b[2m==0.3.3\u001b[0m\n",
      " \u001b[32m+\u001b[39m \u001b[1mbases\u001b[0m\u001b[2m==0.3.0\u001b[0m\n",
      " \u001b[32m+\u001b[39m \u001b[1mblake3\u001b[0m\u001b[2m==1.0.4\u001b[0m\n",
      " \u001b[32m+\u001b[39m \u001b[1mclick\u001b[0m\u001b[2m==8.1.8\u001b[0m\n",
      " \u001b[32m+\u001b[39m \u001b[1mclick-plugins\u001b[0m\u001b[2m==1.1.1\u001b[0m\n",
      " \u001b[32m+\u001b[39m \u001b[1mcligj\u001b[0m\u001b[2m==0.7.2\u001b[0m\n",
      " \u001b[32m+\u001b[39m \u001b[1mcontourpy\u001b[0m\u001b[2m==1.3.1\u001b[0m\n",
      " \u001b[32m+\u001b[39m \u001b[1mcycler\u001b[0m\u001b[2m==0.12.1\u001b[0m\n",
      " \u001b[32m+\u001b[39m \u001b[1mdag-cbor\u001b[0m\u001b[2m==0.3.3\u001b[0m\n",
      " \u001b[32m+\u001b[39m \u001b[1mdeprecated\u001b[0m\u001b[2m==1.2.18\u001b[0m\n",
      " \u001b[32m+\u001b[39m \u001b[1mfasteners\u001b[0m\u001b[2m==0.19\u001b[0m\n",
      " \u001b[32m+\u001b[39m \u001b[1mfiona\u001b[0m\u001b[2m==1.10.1\u001b[0m\n",
      " \u001b[32m+\u001b[39m \u001b[1mfonttools\u001b[0m\u001b[2m==4.56.0\u001b[0m\n",
      " \u001b[32m+\u001b[39m \u001b[1mgeographiclib\u001b[0m\u001b[2m==2.0\u001b[0m\n",
      " \u001b[32m+\u001b[39m \u001b[1mgeopandas\u001b[0m\u001b[2m==1.0.1\u001b[0m\n",
      " \u001b[32m+\u001b[39m \u001b[1mgeopy\u001b[0m\u001b[2m==2.4.1\u001b[0m\n",
      " \u001b[32m+\u001b[39m \u001b[1mkiwisolver\u001b[0m\u001b[2m==1.4.8\u001b[0m\n",
      " \u001b[32m+\u001b[39m \u001b[1mmarkdown-it-py\u001b[0m\u001b[2m==3.0.0\u001b[0m\n",
      " \u001b[32m+\u001b[39m \u001b[1mmatplotlib\u001b[0m\u001b[2m==3.10.0\u001b[0m\n",
      " \u001b[32m+\u001b[39m \u001b[1mmdurl\u001b[0m\u001b[2m==0.1.2\u001b[0m\n",
      " \u001b[32m+\u001b[39m \u001b[1mmmh3\u001b[0m\u001b[2m==5.1.0\u001b[0m\n",
      " \u001b[32m+\u001b[39m \u001b[1mmsgspec\u001b[0m\u001b[2m==0.19.0\u001b[0m\n",
      " \u001b[32m+\u001b[39m \u001b[1mmultiformats\u001b[0m\u001b[2m==0.3.1.post4\u001b[0m\n",
      " \u001b[32m+\u001b[39m \u001b[1mmultiformats-config\u001b[0m\u001b[2m==0.3.1\u001b[0m\n",
      " \u001b[32m+\u001b[39m \u001b[1mnumcodecs\u001b[0m\u001b[2m==0.15.1\u001b[0m\n",
      " \u001b[32m+\u001b[39m \u001b[1mnumpy\u001b[0m\u001b[2m==2.2.2\u001b[0m\n",
      " \u001b[32m+\u001b[39m \u001b[1mpandas\u001b[0m\u001b[2m==2.2.3\u001b[0m\n",
      " \u001b[32m+\u001b[39m \u001b[1mpillow\u001b[0m\u001b[2m==11.1.0\u001b[0m\n",
      " \u001b[32m+\u001b[39m \u001b[1mpy-hamt\u001b[0m\u001b[2m==2.0.4 (from git+https://github.com/dClimate/py-hamt.git@4a848b50ff3325463b12f11119dfdd5d151668a0)\u001b[0m\n",
      " \u001b[32m+\u001b[39m \u001b[1mpycryptodomex\u001b[0m\u001b[2m==3.21.0\u001b[0m\n",
      " \u001b[32m+\u001b[39m \u001b[1mpyogrio\u001b[0m\u001b[2m==0.10.0\u001b[0m\n",
      " \u001b[32m+\u001b[39m \u001b[1mpyparsing\u001b[0m\u001b[2m==3.2.1\u001b[0m\n",
      " \u001b[32m+\u001b[39m \u001b[1mpyproj\u001b[0m\u001b[2m==3.7.0\u001b[0m\n",
      " \u001b[32m+\u001b[39m \u001b[1mpyskein\u001b[0m\u001b[2m==1.0\u001b[0m\n",
      " \u001b[32m+\u001b[39m \u001b[1mpytz\u001b[0m\u001b[2m==2025.1\u001b[0m\n",
      " \u001b[32m+\u001b[39m \u001b[1mrich\u001b[0m\u001b[2m==13.9.4\u001b[0m\n",
      " \u001b[32m+\u001b[39m \u001b[1mshapely\u001b[0m\u001b[2m==2.0.7\u001b[0m\n",
      " \u001b[32m+\u001b[39m \u001b[1msimplekml\u001b[0m\u001b[2m==1.3.6\u001b[0m\n",
      " \u001b[32m+\u001b[39m \u001b[1mtyping-validation\u001b[0m\u001b[2m==1.2.11.post4\u001b[0m\n",
      " \u001b[32m+\u001b[39m \u001b[1mtzdata\u001b[0m\u001b[2m==2025.1\u001b[0m\n",
      " \u001b[32m+\u001b[39m \u001b[1mwrapt\u001b[0m\u001b[2m==1.17.2\u001b[0m\n",
      " \u001b[32m+\u001b[39m \u001b[1mxarray\u001b[0m\u001b[2m==2024.11.0\u001b[0m\n",
      " \u001b[32m+\u001b[39m \u001b[1mzarr\u001b[0m\u001b[2m==2.18.4\u001b[0m\n"
     ]
    }
   ],
   "source": [
    "!uv pip install xarray==2024.11.0 zarr==2.18.4 multiformats git+https://github.com/dClimate/py-hamt.git@4a848b50ff3325463b12f11119dfdd5d151668a0 geopandas fiona geopy simplekml matplotlib"
   ]
  },
  {
   "cell_type": "markdown",
   "id": "5d0ea7af",
   "metadata": {},
   "source": [
    "## 3. Data Loading and Preparation\n",
    "\n",
    "Now we'll load the ERA5 wind data components. ERA5 is a climate reanalysis dataset produced by the European Centre for Medium-Range Weather Forecasts (ECMWF).\n",
    "\n",
    "### Understanding Wind Components\n",
    "\n",
    "- **u-component**: East-west wind component (positive = westerly wind)\n",
    "- **v-component**: North-south wind component (positive = southerly wind)\n",
    "\n",
    "We'll combine these components to calculate wind speed magnitude."
   ]
  },
  {
   "cell_type": "code",
   "execution_count": null,
   "id": "b92ac4a4",
   "metadata": {},
   "outputs": [],
   "source": [
    "import time\n",
    "import xarray as xr\n",
    "from py_hamt import HAMT, IPFSStore\n",
    "from multiformats import CID\n",
    "import pandas as pd\n",
    "import numpy as np\n",
    "import geopandas as gpd\n",
    "import fiona\n",
    "from geopy import geocoders \n",
    "from geopy.geocoders import Nominatim\n",
    "from geopy.exc import GeocoderTimedOut\n",
    "import simplekml\n",
    "from shapely.geometry import Point, Polygon, MultiPolygon, shape\n",
    "import matplotlib.pyplot as plt\n",
    "\n",
    "print(\"Imported all packages\")\n",
    "\n",
    "# Start timing\n",
    "start_time = time.perf_counter()\n",
    "\n",
    "# Load Wind Power Curve CSV (This CSV has a generic power curve we created that is percent of max capacity by wind speed in m/s)\n",
    "fname='Windfarms_ALL_new_percent_of_max_power_curve.csv' # Wind Turbine Power Curve Filename\n",
    "power_curve_all_df=pd.read_csv(fname) # Load csv into a pandas dataframe\n",
    "del fname\n",
    "\n",
    "# Root CID of the HAMT\n",
    "era5_100m_uwind_cid = \"bafyr4ic3bnbcemyxllvdwrz2jxeccxlyjqxllz3csqjwsf4ihapj4kundy\"\n",
    "era5_100m_vwind_cid = \"bafyr4ianhuujwxgivs7m3xk7t4k7xi4bqkivb4asjid26fa3bv4ssy5jqm\"\n",
    "\n",
    "era5_100m_uwind_root_cid = CID.decode(era5_100m_uwind_cid)\n",
    "era5_100m_vwind_root_cid = CID.decode(era5_100m_vwind_cid)\n",
    "\n",
    "# Create HAMT instance using the IPFSStore\n",
    "era5_100m_uwind_hamt = HAMT(store=IPFSStore(gateway_uri_stem=\"http://0.0.0.0:8080\", timeout_seconds=1000), root_node_id=era5_100m_uwind_root_cid, )\n",
    "era5_100m_vwind_hamt = HAMT(store=IPFSStore(gateway_uri_stem=\"http://0.0.0.0:8080\", timeout_seconds=1000), root_node_id=era5_100m_vwind_root_cid)\n",
    "\n",
    "era5_100m_uwind = xr.open_zarr(store=era5_100m_uwind_hamt)\n",
    "print(\"Loaded era5_100m_uwind\")\n",
    "\n",
    "era5_100m_vwind = xr.open_zarr(store=era5_100m_vwind_hamt)\n",
    "print(\"Loaded era5_100m_vwind\")"
   ]
  },
  {
   "cell_type": "markdown",
   "id": "61977469",
   "metadata": {},
   "source": [
    "## 4. Wind Farm Location Selection\n",
    "\n",
    "We'll define our wind farm location and extract the relevant data for that geographic area. We need to:\n",
    "\n",
    "1. Define the wind farm coordinates\n",
    "2. Find the closest ERA5 grid point to our location\n",
    "3. Extract data for a small region around this point"
   ]
  },
  {
   "cell_type": "code",
   "execution_count": null,
   "id": "7d3c9039",
   "metadata": {},
   "outputs": [],
   "source": [
    "########################################################################################################################################\n",
    "# THIS SECTION IS WHERE USER ENTERS THE INFO FOR THEIR SIMULATION\n",
    "\n",
    "# Enter Wind Farm Info\n",
    "wind_farm_lat=30.30087157112338 # Latitude of Wind Farm \n",
    "wind_farm_lon=-97.8192644357404 # Longitude of Wind Farm (I am using -180,180 format here)\n",
    "wind_farm_max_capacity_mw=100 # Maximum Capacity of Wind Farm In MW\n",
    "\n",
    "# Define time range\n",
    "start_date = \"2024-03-01\" # Date to Start Analysis\n",
    "end_date = \"2024-03-07\" # Date to End Analysis\n",
    "\n",
    "########################################################################################################################################\n",
    "\n",
    "################ Get all pairs of lat,lon in ERA5 100m dataset #####################\n",
    "def df_of_all_lat_lons_funct(ds):\n",
    "    # This function takes in a xarray dataset of weather and returns all lat/lon pairs in a pandas dataframe\n",
    "    # Assumption is long in ds is 0,360 format (ERA5)\n",
    "    \n",
    "    # ds is your xarray dataset of weather variable\n",
    "    latitudes = ds.latitude.values\n",
    "    longitudes = ds.longitude.values\n",
    "    \n",
    "    # Create a 2D mesh of lat/lon pairs\n",
    "    lat_grid, lon_grid = np.meshgrid(latitudes, longitudes, indexing='ij')\n",
    "    \n",
    "    # Flatten the arrays to get coordinate pairs\n",
    "    lat_flat = lat_grid.ravel()\n",
    "    lon_flat_360 = lon_grid.ravel()\n",
    "    \n",
    "    # Convert longitude from 0-360 to -180 to 180\n",
    "    lon_flat_180 = np.where(lon_flat_360 > 180, lon_flat_360 - 360, lon_flat_360)\n",
    "    \n",
    "    # Create a DataFrame\n",
    "    df = pd.DataFrame({\n",
    "        \"lat\": lat_flat,\n",
    "        \"lon_360\": lon_flat_360,\n",
    "        \"lon_180\": lon_flat_180,\n",
    "        \"geometry\": [Point(lon, lat) for lon, lat in zip(lon_flat_180, lat_flat)]\n",
    "    })\n",
    "\n",
    "    return df\n",
    "\n",
    "all_lat_lon_pairs=df_of_all_lat_lons_funct(era5_100m_uwind)\n",
    "print(\"all lat lon pairs\", all_lat_lon_pairs)\n",
    "\n",
    "# Calculate distance from each ERA5 point to the wind farm\n",
    "def haversine(lat1, lon1, df):\n",
    "    \"\"\"\n",
    "    Compute the distance in km between a given point (lat1, lon1)\n",
    "    and all lat/lon points in a DataFrame.\n",
    "\n",
    "    Parameters:\n",
    "    lat1, lon1: float - Reference latitude and longitude\n",
    "    df: pandas DataFrame - Must contain 'lat' and 'lon_180' columns\n",
    "\n",
    "    Returns:\n",
    "    pandas Series with distances in km\n",
    "    \"\"\"\n",
    "    R = 6371  # Earth radius in km\n",
    "\n",
    "    # Convert degrees to radians\n",
    "    lat1, lon1 = np.radians(lat1), np.radians(lon1)\n",
    "    lat2, lon2 = np.radians(df[\"lat\"]), np.radians(df[\"lon_180\"])\n",
    "\n",
    "    # Compute differences\n",
    "    dlat = lat2 - lat1\n",
    "    dlon = lon2 - lon1\n",
    "\n",
    "    # Haversine formula\n",
    "    a = np.sin(dlat / 2)**2 + np.cos(lat1) * np.cos(lat2) * np.sin(dlon / 2)**2\n",
    "    c = 2 * np.arctan2(np.sqrt(a), np.sqrt(1 - a))\n",
    "\n",
    "    return R * c  # Distance in km\n",
    "\n",
    "all_lat_lon_pairs['distance']=haversine(wind_farm_lat, wind_farm_lon, all_lat_lon_pairs) # Get Distance of Wind Farm to each ERA5 lat,lon (in km)\n",
    "closest_era5_lat_lon_point=all_lat_lon_pairs[all_lat_lon_pairs['distance']==all_lat_lon_pairs['distance'].min()].reset_index(drop=True) # Find Closest lat,lon point \n",
    "\n",
    "# Convert From -180,180 to 0,360 for ERA5\n",
    "def convert_longitude(lon):\n",
    "    \"\"\"\n",
    "    This function converts longitude from -180,180 to 0,360\n",
    "    \"\"\"\n",
    "    return lon % 360 if lon >= 0 else (lon + 360) % 360\n",
    "\n",
    "# Convert wind_farm_lon to 0,360 longitude format\n",
    "wind_farm_lon=convert_longitude(wind_farm_lon)\n",
    "\n",
    "\n",
    "# Define geographic bounding box (Part of Central Texas) Need to clean this up \n",
    "lat_min, lat_max = wind_farm_lat-0.25, wind_farm_lat+0.25  # Latitude range (Getting all data within 0.25 either side)\n",
    "lon_min, lon_max = wind_farm_lon-0.25,wind_farm_lon+0.25  # Longitude range (Getting all data within 0.25 either side)\n",
    "lon_min, lon_max = convert_longitude(lon_min), convert_longitude(lon_max) # Convert lon to 0,360"
   ]
  },
  {
   "cell_type": "markdown",
   "id": "14b250d3",
   "metadata": {},
   "source": [
    "## 5. Data Processing\n",
    "\n",
    "Now we'll process the wind data to prepare it for power generation calculations:\n",
    "\n",
    "1. Subset the data to our region of interest\n",
    "2. Convert the xarray datasets to pandas DataFrames for easier manipulation\n",
    "3. Calculate wind speed magnitude from u and v components"
   ]
  },
  {
   "cell_type": "code",
   "execution_count": null,
   "id": "335d86c9",
   "metadata": {},
   "outputs": [],
   "source": [
    "########### Subset the data ###########\n",
    "subset_start = time.perf_counter()\n",
    "\n",
    "# Get Subset of 100m u_wind vector\n",
    "subset_era5_100m_uwind = era5_100m_uwind.sel(\n",
    "    latitude=slice(lat_max, lat_min),\n",
    "    longitude=slice(lon_min, lon_max),\n",
    "    time=slice(start_date, end_date)\n",
    ")\n",
    "print(\"Sliced era5_100m_uwind\")\n",
    "\n",
    "# Get Subset of 100m v_wind vector\n",
    "subset_era5_100m_vwind = era5_100m_vwind.sel(\n",
    "    latitude=slice(lat_max, lat_min),\n",
    "    longitude=slice(lon_min, lon_max),\n",
    "    time=slice(start_date, end_date)\n",
    ")\n",
    "print(\"Sliced era5_100m_vwind\")\n",
    "\n",
    "subset_end = time.perf_counter()\n",
    "print(f\"Subsetting data took {subset_end - subset_start:.2f} seconds\")\n",
    "\n",
    "########### Convert Slices to DataFrames ###########\n",
    "convert_start = time.perf_counter()\n",
    "\n",
    "print(\"1\")\n",
    "# Convert the xarray dataset subset_era5_100m_uwind to a pandas DataFrame and reset the index\n",
    "df_u100 = subset_era5_100m_uwind['100m_u_component_of_wind'].to_dataframe().reset_index()\n",
    "\n",
    "print(\"2\")\n",
    "# Convert the xarray dataset subset_era5_100m_vwind to a pandas DataFrame and reset the index\n",
    "df_v100 = subset_era5_100m_vwind['100m_v_component_of_wind'].to_dataframe().reset_index()\n",
    "\n",
    "print(\"3\")\n",
    "# Reshape the DataFrame so that each unique (latitude, longitude) pair gets its own column\n",
    "# The index is set to 'time', and the values are taken from the '100m_u_component_of_wind' column\n",
    "df_u100 = df_u100.pivot(index='time', columns=['latitude', 'longitude'], values='100m_u_component_of_wind')\n",
    "\n",
    "print(\"4\")\n",
    "# Perform the same pivot operation for the v-component of wind\n",
    "df_v100 = df_v100.pivot(index='time', columns=['latitude', 'longitude'], values='100m_v_component_of_wind')\n",
    "\n",
    "print(\"5\")\n",
    "# Rename the columns to a more readable format, using (latitude, longitude) tuples as column names\n",
    "df_u100.columns = [f\"({lat}, {lon})\" for lat, lon in df_u100.columns]\n",
    "df_v100.columns = [f\"({lat}, {lon})\" for lat, lon in df_v100.columns]\n",
    "\n",
    "\n",
    "print(\"6\")\n",
    "convert_end = time.perf_counter()\n",
    "print(f\"DataFrame conversion took {convert_end - convert_start:.2f} seconds\")\n",
    "\n",
    "# End timing\n",
    "end_time = time.perf_counter()\n",
    "print(f\"Total execution time: {end_time - start_time:.2f} seconds\")\n",
    "\n",
    "# Calculate 100m wind speed from u and v vectors\n",
    "df_100_wind=((df_u100**2)+(df_v100**2))**(1/2)\n",
    "\n",
    "# Get wind speed for lat/lon closest to wind farm\n",
    "era5_lat_lon_ref_string='('+str(float(closest_era5_lat_lon_point['lat'][0]))+', '+str(float(closest_era5_lat_lon_point['lon_360'][0]))+')' # String for ERA5 point (EX: '(30.25, 262.25)')\n",
    "U_wind=pd.DataFrame(df_100_wind[era5_lat_lon_ref_string]) # Make a dataframe called U_wind that is a single column of 100m winds at the lat/lon closest to the wind farm\n",
    "U_wind.columns=['U_wind'] # Rename the column in U_wind df \"U_wind\""
   ]
  },
  {
   "cell_type": "markdown",
   "id": "614b0d29",
   "metadata": {},
   "source": [
    "## 6. Wind Turbine Power Curve Application\n",
    "\n",
    "A power curve shows the relationship between wind speed and power output for a specific wind turbine model. We'll use this to convert our wind speed data into power generation estimates.\n",
    "\n",
    "### How Power Curves Work\n",
    "\n",
    "- Below cut-in speed: No power generation\n",
    "- Between cut-in and rated speed: Power increases (often following a cubic relationship)\n",
    "- At rated speed: Turbine reaches maximum power output\n",
    "- Above cut-out speed: Turbine shuts down for safety"
   ]
  },
  {
   "cell_type": "code",
   "execution_count": null,
   "id": "5a09d09b",
   "metadata": {},
   "outputs": [],
   "source": [
    "############### Create Power Curve Formatted to Obtain Percent of Max ###############\n",
    "pctuse=power_curve_all_df.drop(['Man. ID','Manufucturer Name','Turb. ID','Turbine Name'],axis=1)\n",
    "power_curve_hub_height_wind_speed=pd.DataFrame(pctuse.columns)\n",
    "power_curve_hub_height_wind_speed.columns=['Hub_Height_Wind_Speed']\n",
    "power_curve_pct_max=pd.DataFrame(pctuse.iloc[0,:])\n",
    "power_curve_pct_max=power_curve_pct_max.reset_index(drop=True)\n",
    "power_curve_pct_max.columns=['Percent_of_Max_Power']\n",
    "\n",
    "reformatted_pctuse=pd.concat([power_curve_hub_height_wind_speed.astype(float),power_curve_pct_max],axis=1)\n",
    "\n",
    "del pctuse,power_curve_hub_height_wind_speed,power_curve_pct_max"
   ]
  },
  {
   "cell_type": "markdown",
   "id": "adfd0ec2",
   "metadata": {},
   "source": [
    "## 7. Wind Power Generation Calculation\n",
    "\n",
    "Now we'll calculate the actual power output by:\n",
    "\n",
    "1. Finding the closest power curve wind speed to our ERA5 wind speed at each time step\n",
    "2. Getting the corresponding percentage of maximum power\n",
    "3. Multiplying by the wind farm's maximum capacity to get actual generation in MWh"
   ]
  },
  {
   "cell_type": "code",
   "execution_count": 5,
   "id": "8a30748d-7e75-41f3-963c-2ad268bef3b7",
   "metadata": {
    "scrolled": true
   },
   "outputs": [
    {
     "name": "stdout",
     "output_type": "stream",
     "text": [
      "Imported all packages\n",
      "Loaded era5_100m_uwind\n",
      "Loaded era5_100m_vwind\n",
      "all lat lon pairs           lat  lon_360  lon_180           geometry\n",
      "0        90.0     0.00     0.00       POINT (0 90)\n",
      "1        90.0     0.25     0.25    POINT (0.25 90)\n",
      "2        90.0     0.50     0.50     POINT (0.5 90)\n",
      "3        90.0     0.75     0.75    POINT (0.75 90)\n",
      "4        90.0     1.00     1.00       POINT (1 90)\n",
      "...       ...      ...      ...                ...\n",
      "1038235 -90.0   358.75    -1.25  POINT (-1.25 -90)\n",
      "1038236 -90.0   359.00    -1.00     POINT (-1 -90)\n",
      "1038237 -90.0   359.25    -0.75  POINT (-0.75 -90)\n",
      "1038238 -90.0   359.50    -0.50   POINT (-0.5 -90)\n",
      "1038239 -90.0   359.75    -0.25  POINT (-0.25 -90)\n",
      "\n",
      "[1038240 rows x 4 columns]\n",
      "Sliced era5_100m_uwind\n",
      "Sliced era5_100m_vwind\n",
      "Subsetting data took 0.05 seconds\n",
      "1\n",
      "2\n",
      "3\n",
      "4\n",
      "5\n",
      "6\n",
      "DataFrame conversion took 798.35 seconds\n",
      "Total execution time: 824.95 seconds\n"
     ]
    },
    {
     "data": {
      "text/plain": [
       "<Figure size 1200x600 with 0 Axes>"
      ]
     },
     "metadata": {},
     "output_type": "display_data"
    },
    {
     "data": {
      "image/png": "[encoded data removed]",
      "text/plain": [
       "<Figure size 640x480 with 1 Axes>"
      ]
     },
     "metadata": {},
     "output_type": "display_data"
    },
    {
     "name": "stdout",
     "output_type": "stream",
     "text": [
      "Done\n"
     ]
    }
   ],
   "source": [
    "############### Obtain the power output (multiply the percent of max power by the total power for each timestep) ###############\n",
    "xx, yy = np.meshgrid(U_wind.U_wind,reformatted_pctuse.Hub_Height_Wind_Speed) # Create a meshgrid from the wind speed data: U_wind.U_wind is observed ERA5 wind speeds, reformatted_pctuse.Hub_Height_Wind_Speed represents percent of max generation for hub height wind speeds \n",
    "zz=abs(yy-xx) # Compute the absolute difference between the two grids\n",
    "del xx,yy # Delete temporary variables to free up memory \n",
    "\n",
    "zz=pd.DataFrame(zz).idxmin() # Find the index of the minimum difference for each column. This identifies the closest Percent of Capacity Wind Speed to the ERA5 observed wind speed\n",
    "raw_energy_output=reformatted_pctuse['Percent_of_Max_Power'].get(key=zz) # Extract the corresponding power generation percentage from the lookup table\n",
    "raw_energy_output=raw_energy_output.reset_index(drop=True) # Reset index to flatten the resulting series\n",
    "raw_energy_output=raw_energy_output*wind_farm_max_capacity_mw # Scale by the wind farm's maximum capacity to get actual power generation (MWh)\n",
    "raw_energy_output=pd.concat([pd.DataFrame(U_wind.index),raw_energy_output],axis=1) # Combine with the original U_wind index (timestamps) \n",
    "raw_energy_output=raw_energy_output.set_index('time') # Set the index to the time column for time series analysis \n",
    "raw_energy_output.columns=['Wind_Farm_Generation_MWh'] # Rename the output column to indicate wind farm generation in MWh  "
   ]
  },
  {
   "cell_type": "markdown",
   "id": "73c22aed",
   "metadata": {},
   "source": [
    "## 8. Time Series Aggregation\n",
    "\n",
    "We'll aggregate our hourly generation data to different time scales to analyze patterns:\n",
    "\n",
    "- Daily\n",
    "- Monthly\n",
    "- Yearly\n",
    "\n"
   ]
  },
  {
   "cell_type": "code",
   "execution_count": null,
   "id": "84066a7e",
   "metadata": {},
   "outputs": [],
   "source": [
    "# Resample generation data from hourly to different time scales (MW/h aggregation):\n",
    "daily_raw_energy_output=raw_energy_output.resample('d').sum() # Daily\n",
    "monthly_raw_energy_output=raw_energy_output.resample('ME').sum() # Monthly\n",
    "yearly_raw_energy_output=raw_energy_output.resample('YE').sum() # Yearly"
   ]
  },
  {
   "cell_type": "markdown",
   "id": "b128ce79",
   "metadata": {},
   "source": [
    "## 9. Visualization and Analysis\n",
    "\n",
    "Finally, we'll visualize our results to understand the wind farm's generation patterns:\""
   ]
  },
  {
   "cell_type": "code",
   "execution_count": null,
   "id": "ffda144d",
   "metadata": {},
   "outputs": [],
   "source": [
    "###### Plot Hourly Wind Farm Generation\n",
    "# Plot the time series\n",
    "plt.figure(figsize=(12, 6))\n",
    "raw_energy_output.plot(y=\"Wind_Farm_Generation_MWh\", legend=False, color=\"blue\", linewidth=1)\n",
    "\n",
    "# Formatting\n",
    "plt.title(\"Hourly Wind Farm Generation \"+start_date+\" to \"+end_date)\n",
    "plt.ylabel(\"Generation (MWh)\")\n",
    "plt.grid(True)\n",
    "plt.show()\n",
    "plt.close()"
   ]
  },
  {
   "cell_type": "markdown",
   "id": "d97ef034",
   "metadata": {},
   "source": [
    "## 10. Conclusion and Next Steps\n",
    "\n",
    "We've successfully estimated wind power generation using ERA5 climate data. Some potential next steps:\n",
    "\n",
    "1. Compare results with actual wind farm data for validation\n",
    "2. Analyze seasonal and diurnal patterns in generation\n",
    "3. Explore how generation might change under future climate scenarios\n",
    "4. Optimize turbine selection based on the wind resource at this location\n",
    "5. Perform economic analysis (capacity factor, revenue potential, etc.)"
   ]
  },
  {
   "cell_type": "markdown",
   "id": "518c0c81",
   "metadata": {},
   "source": [
    "Extra credit: The CSV file is the power curve file (we normally interpolate the curve to get higher resolution but we left that off)"
   ]
  }
 ],
 "metadata": {
  "kernelspec": {
   "display_name": "Python 3 (ipykernel)",
   "language": "python",
   "name": "python3"
  },
  "language_info": {
   "codemirror_mode": {
    "name": "ipython",
    "version": 3
   },
   "file_extension": ".py",
   "mimetype": "text/x-python",
   "name": "python",
   "nbconvert_exporter": "python",
   "pygments_lexer": "ipython3",
   "version": "3.12.7"
  }
 },
 "nbformat": 4,
 "nbformat_minor": 5
}
