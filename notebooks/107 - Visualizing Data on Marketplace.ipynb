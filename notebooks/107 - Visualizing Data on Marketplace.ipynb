{
 "cells": [
  {
   "cell_type": "markdown",
   "id": "4e185358-5d27-4ccb-8898-e53b07387a85",
   "metadata": {},
   "source": [
    "# Visualizing Data on Marketplace\n"
   ]
  },
  {
   "cell_type": "code",
   "execution_count": null,
   "id": "8c6a3392-5a99-41f1-8b4f-bdc47f65fd19",
   "metadata": {},
   "outputs": [],
   "source": []
  },
  {
   "cell_type": "code",
   "execution_count": 3,
   "id": "8068b213-7a0a-40be-a123-d516c9d9dadc",
   "metadata": {},
   "outputs": [
    {
     "name": "stdout",
     "output_type": "stream",
     "text": [
      "{\n",
      "  \"API\": \"/ip4/127.0.0.1/tcp/5001\",\n",
      "  \"Announce\": [],\n",
      "  \"AppendAnnounce\": [],\n",
      "  \"Gateway\": \"/ip4/0.0.0.0/tcp/8080\",\n",
      "  \"NoAnnounce\": [],\n",
      "  \"Swarm\": [\n",
      "    \"/ip4/0.0.0.0/tcp/4001\",\n",
      "    \"/ip6/::/tcp/4001\",\n",
      "    \"/ip4/0.0.0.0/udp/4001/webrtc-direct\",\n",
      "    \"/ip4/0.0.0.0/udp/4001/quic-v1\",\n",
      "    \"/ip4/0.0.0.0/udp/4001/quic-v1/webtransport\",\n",
      "    \"/ip6/::/udp/4001/webrtc-direct\",\n",
      "    \"/ip6/::/udp/4001/quic-v1\",\n",
      "    \"/ip6/::/udp/4001/quic-v1/webtransport\",\n",
      "    \"/ip4/0.0.0.0/tcp/4001/ws\",\n",
      "    \"/ip6/::/tcp/4001/ws\"\n",
      "  ]\n",
      "}\n"
     ]
    }
   ],
   "source": [
    "!ipfs config Addresses"
   ]
  },
  {
   "cell_type": "markdown",
   "id": "b4cb9164-b3a2-4b25-802b-66db3c449e06",
   "metadata": {},
   "source": [
    "If running on Railway use the below to connect to the marketplace via websockets"
   ]
  },
  {
   "cell_type": "code",
   "execution_count": 1,
   "id": "acbb558b-a5e2-4df4-ae97-9c27d1a7a528",
   "metadata": {},
   "outputs": [
    {
     "ename": "IndexError",
     "evalue": "list index out of range",
     "output_type": "error",
     "traceback": [
      "\u001b[0;31m---------------------------------------------------------------------------\u001b[0m",
      "\u001b[0;31mIndexError\u001b[0m                                Traceback (most recent call last)",
      "Cell \u001b[0;32mIn[1], line 13\u001b[0m\n\u001b[1;32m     10\u001b[0m data \u001b[38;5;241m=\u001b[39m json\u001b[38;5;241m.\u001b[39mloads(json_str)\n\u001b[1;32m     12\u001b[0m \u001b[38;5;66;03m# Get the first element of the array\u001b[39;00m\n\u001b[0;32m---> 13\u001b[0m first_value \u001b[38;5;241m=\u001b[39m \u001b[43mdata\u001b[49m\u001b[43m[\u001b[49m\u001b[38;5;241;43m0\u001b[39;49m\u001b[43m]\u001b[49m\n\u001b[1;32m     14\u001b[0m \u001b[38;5;28mprint\u001b[39m(first_value)\n",
      "\u001b[0;31mIndexError\u001b[0m: list index out of range"
     ]
    }
   ],
   "source": [
    "import json\n",
    "\n",
    "# Capture the command output (a list of strings)\n",
    "output = !ipfs config Addresses.Announce\n",
    "\n",
    "# Join the output into a single string\n",
    "json_str = \"\\n\".join(output)\n",
    "\n",
    "# Parse the JSON string into a Python list\n",
    "data = json.loads(json_str)\n",
    "\n",
    "# Get the first element of the array\n",
    "first_value = data[0]\n",
    "print(first_value)"
   ]
  },
  {
   "cell_type": "code",
   "execution_count": null,
   "id": "4ae972ec-5bd9-4fc8-9b7b-c0b06e35f3c9",
   "metadata": {},
   "outputs": [],
   "source": []
  }
 ],
 "metadata": {
  "kernelspec": {
   "display_name": "Python 3 (ipykernel)",
   "language": "python",
   "name": "python3"
  },
  "language_info": {
   "codemirror_mode": {
    "name": "ipython",
    "version": 3
   },
   "file_extension": ".py",
   "mimetype": "text/x-python",
   "name": "python",
   "nbconvert_exporter": "python",
   "pygments_lexer": "ipython3",
   "version": "3.12.7"
  }
 },
 "nbformat": 4,
 "nbformat_minor": 5
}
