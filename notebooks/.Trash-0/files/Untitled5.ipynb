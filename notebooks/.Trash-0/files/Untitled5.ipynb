{
 "cells": [
  {
   "cell_type": "code",
   "execution_count": 6,
   "id": "b68c9f94-7140-49aa-a643-9c3ae61aca35",
   "metadata": {},
   "outputs": [
    {
     "name": "stdout",
     "output_type": "stream",
     "text": [
      "ipfs version 0.32.1\n"
     ]
    }
   ],
   "source": [
    "!ipfs --version"
   ]
  },
  {
   "cell_type": "code",
   "execution_count": 3,
   "id": "017c2ab8-4ea7-49bc-b27b-61b813ed342f",
   "metadata": {},
   "outputs": [
    {
     "name": "stdout",
     "output_type": "stream",
     "text": [
      "connect 12D3KooWHdZM98wcuyGorE184exFrPEJWv2btXWWSHLQaqwZXuPe success\n",
      "connect 12D3KooWGX5HDDjbdiJL2QYf2f7Kjp1Bj6QAXR5vFvLQniTKwoBR success\n",
      "connect 12D3KooWPwXW1tXzHoHgMofDwc9uzi7PLVHZt7QbLNt2v3pxzoEF success\n"
     ]
    }
   ],
   "source": [
    "!ipfs swarm connect \"/ip4/15.235.14.184/udp/4001/quic-v1/p2p/12D3KooWHdZM98wcuyGorE184exFrPEJWv2btXWWSHLQaqwZXuPe\"\n",
    "!ipfs swarm connect \"/ip4/15.235.86.198/udp/4001/quic-v1/p2p/12D3KooWGX5HDDjbdiJL2QYf2f7Kjp1Bj6QAXR5vFvLQniTKwoBR\"\n",
    "!ipfs swarm connect \"/ip4/148.113.168.50/udp/4001/quic-v1/p2p/12D3KooWPwXW1tXzHoHgMofDwc9uzi7PLVHZt7QbLNt2v3pxzoEF\""
   ]
  },
  {
   "cell_type": "code",
   "execution_count": 3,
   "id": "63b1a626-2b7c-41a4-91b6-3bcc477a2120",
   "metadata": {},
   "outputs": [
    {
     "name": "stdout",
     "output_type": "stream",
     "text": [
      "\u001b[2mUsing Python 3.12.7 environment at: /opt/venv\u001b[0m\n",
      "\u001b[2K\u001b[2mResolved \u001b[1m34 packages\u001b[0m \u001b[2min 2.20s\u001b[0m\u001b[0m                                        \u001b[0m\n",
      "\u001b[2mAudited \u001b[1m34 packages\u001b[0m \u001b[2min 1ms\u001b[0m\u001b[0m\n"
     ]
    }
   ],
   "source": [
    "!uv pip install xarray zarr multiformats git+https://github.com/dClimate/py-hamt.git"
   ]
  },
  {
   "cell_type": "code",
   "execution_count": 5,
   "id": "49ac7a7b-2bb4-4705-9466-6e79410670ca",
   "metadata": {},
   "outputs": [
    {
     "name": "stdout",
     "output_type": "stream",
     "text": [
      "<xarray.Dataset> Size: 17GB\n",
      "Dimensions:    (latitude: 360, longitude: 720, time: 16765)\n",
      "Coordinates:\n",
      "  * latitude   (latitude) float32 1kB 89.75 89.25 88.75 ... -88.75 -89.25 -89.75\n",
      "  * longitude  (longitude) float32 3kB 0.25 0.75 1.25 1.75 ... -1.25 -0.75 -0.25\n",
      "  * time       (time) datetime64[ns] 134kB 1979-01-01 1979-01-02 ... 2024-11-24\n",
      "Data variables:\n",
      "    precip     (time, latitude, longitude) float32 17GB ...\n",
      "Attributes:\n",
      "    Conventions:    CF-1.0\n",
      "    References:     https://www.psl.noaa.gov/data/gridded/data.cpc.globalprec...\n",
      "    Source:         ftp://ftp.cpc.ncep.noaa.gov/precip/CPC_UNI_PRCP/\n",
      "    dataset_title:  CPC GLOBAL PRCP V1.0\n",
      "    history:        created 9/2016 by CAS NOAA/ESRL PSD\n",
      "    title:          CPC GLOBAL PRCP V1.0\n",
      "    version:        V1.0\n"
     ]
    }
   ],
   "source": [
    "import xarray as xr\n",
    "from py_hamt import HAMT, IPFSStore\n",
    "from multiformats import CID\n",
    "\n",
    "# CPC\n",
    "# precip-conus bafyr4ibho2tnqtwdor2tydtgdwfphpqvyllthzyktpeqdhusuqr7uicvla\n",
    "# precip-global bafyr4ig7tljqzj4c755ekvowu42ycw6w4iy7rx465oe6zdpdctfysnko6m\n",
    "# tmax bafyr4if6jziqxhushl2uc2hdtf2dep55wjb7sbjw3gzl62iy2rr4xi43xu \n",
    "# tmin bafyr4iglju2dtpjok5jklq6m44q5dqh7pkrhrc5ufpdw7fobyps63jkjnu\n",
    "\n",
    "# CHIRPS\n",
    "# final-p05 bafyr4icutcuta5aarz2gnlhep36vpbw7jke7tfdg2x3f36mhb4fb2a4vmy\n",
    "# final-p25 bafyr4igp3rotb4ngp4grvyafxq6nfqgem3oweslfrl7l4hp3dchaofibqa\n",
    "# prelim-p05 bafyr4iaajzls6omuhqqwwawkr6wzlszvflqoybtqlibzckshgqqjubbbae\n",
    "\n",
    "# Root CID of the HAMT\n",
    "dataset_cid = \"bafyr4ig7tljqzj4c755ekvowu42ycw6w4iy7rx465oe6zdpdctfysnko6m\"\n",
    "\n",
    "root_cid = CID.decode(dataset_cid)\n",
    "\n",
    "# Create HAMT instance using the IPFSStore connecting to your locally running IPFS Gateway from your local running IPFS Node\n",
    "hamt = HAMT(store=IPFSStore(gateway_uri_stem=\"http://0.0.0.0:8080\"), root_node_id=root_cid)\n",
    "# hamt = HAMT(store=IPFSStore(gateway_uri_stem=\"http://127.0.0.1:8082\"), root_node_id=root_cid)\n",
    "\n",
    "# You can instead try running \n",
    "\n",
    "ds = xr.open_zarr(store=hamt)\n",
    "print(ds)"
   ]
  },
  {
   "cell_type": "code",
   "execution_count": 5,
   "id": "c23ef0e1-0aad-40a3-84e6-c3df1b051c4d",
   "metadata": {},
   "outputs": [
    {
     "name": "stdout",
     "output_type": "stream",
     "text": [
      "\u001b[2mUsing Python 3.12.7 environment at: /opt/venv\u001b[0m\n",
      "\u001b[2mAudited \u001b[1m1 package\u001b[0m \u001b[2min 43ms\u001b[0m\u001b[0m\n"
     ]
    }
   ],
   "source": [
    "# Time to visualize\n",
    "!uv pip install matplotlib"
   ]
  },
  {
   "cell_type": "code",
   "execution_count": null,
   "id": "3a315059-a378-4105-aaf5-f333d87cc43c",
   "metadata": {},
   "outputs": [],
   "source": []
  }
 ],
 "metadata": {
  "kernelspec": {
   "display_name": "Python 3 (ipykernel)",
   "language": "python",
   "name": "python3"
  },
  "language_info": {
   "codemirror_mode": {
    "name": "ipython",
    "version": 3
   },
   "file_extension": ".py",
   "mimetype": "text/x-python",
   "name": "python",
   "nbconvert_exporter": "python",
   "pygments_lexer": "ipython3",
   "version": "3.12.7"
  }
 },
 "nbformat": 4,
 "nbformat_minor": 5
}
