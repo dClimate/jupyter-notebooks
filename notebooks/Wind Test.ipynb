{
 "cells": [
  {
   "cell_type": "code",
   "execution_count": 1,
   "id": "9614b8fd-e7a8-4ba6-9a3d-14f60e9a41a0",
   "metadata": {},
   "outputs": [
    {
     "name": "stdout",
     "output_type": "stream",
     "text": [
      "\u001b[2mUsing Python 3.12.7 environment at: /opt/venv\u001b[0m\n",
      "\u001b[2mResolved \u001b[1m45 packages\u001b[0m \u001b[2min 3.95s\u001b[0m\u001b[0m                                            \u001b[0m\n",
      "\u001b[2K\u001b[2mPrepared \u001b[1m8 packages\u001b[0m \u001b[2min 24.14s\u001b[0m\u001b[0m                                            \n",
      "\u001b[1m\u001b[33mwarning\u001b[39m\u001b[0m\u001b[1m:\u001b[0m \u001b[1mFailed to hardlink files; falling back to full copy. This may lead to degraded performance.\n",
      "         If the cache and target directories are on different filesystems, hardlinking may not be supported.\n",
      "         If this is intentional, set `export UV_LINK_MODE=copy` or use `--link-mode=copy` to suppress this warning.\u001b[0m\n",
      "\u001b[2K\u001b[2mInstalled \u001b[1m8 packages\u001b[0m \u001b[2min 84ms\u001b[0m\u001b[0m                                \u001b[0m\n",
      " \u001b[32m+\u001b[39m \u001b[1mclick-plugins\u001b[0m\u001b[2m==1.1.1\u001b[0m\n",
      " \u001b[32m+\u001b[39m \u001b[1mcligj\u001b[0m\u001b[2m==0.7.2\u001b[0m\n",
      " \u001b[32m+\u001b[39m \u001b[1mfiona\u001b[0m\u001b[2m==1.10.1\u001b[0m\n",
      " \u001b[32m+\u001b[39m \u001b[1mgeographiclib\u001b[0m\u001b[2m==2.0\u001b[0m\n",
      " \u001b[32m+\u001b[39m \u001b[1mgeopandas\u001b[0m\u001b[2m==1.0.1\u001b[0m\n",
      " \u001b[32m+\u001b[39m \u001b[1mgeopy\u001b[0m\u001b[2m==2.4.1\u001b[0m\n",
      " \u001b[32m+\u001b[39m \u001b[1mpyogrio\u001b[0m\u001b[2m==0.10.0\u001b[0m\n",
      " \u001b[32m+\u001b[39m \u001b[1msimplekml\u001b[0m\u001b[2m==1.3.6\u001b[0m\n"
     ]
    }
   ],
   "source": [
    "!uv pip install xarray==2024.11.0 zarr==2.18.4 multiformats git+https://github.com/dClimate/py-hamt.git geopandas fiona geopy simplekml"
   ]
  },
  {
   "cell_type": "code",
   "execution_count": 5,
   "id": "064c303f-b025-47ba-b002-93bd2b145f17",
   "metadata": {},
   "outputs": [
    {
     "name": "stdout",
     "output_type": "stream",
     "text": [
      "add 12D3KooWHdZM98wcuyGorE184exFrPEJWv2btXWWSHLQaqwZXuPe success\n",
      "add 12D3KooWGX5HDDjbdiJL2QYf2f7Kjp1Bj6QAXR5vFvLQniTKwoBR success\n",
      "add 12D3KooWEaVCpKd2MgZeLugvwCWRSQAMYWdu6wNG6SySQsgox8k5 success\n"
     ]
    }
   ],
   "source": [
    "# Fluorine Node\n",
    "!ipfs swarm peering add \"/ip4/15.235.14.184/tcp/4001/p2p/12D3KooWHdZM98wcuyGorE184exFrPEJWv2btXWWSHLQaqwZXuPe\"\n",
    "\n",
    "# Cerium Node\n",
    "!ipfs swarm peering add \"/ip4/15.235.14.184/tcp/4001/p2p/12D3KooWGX5HDDjbdiJL2QYf2f7Kjp1Bj6QAXR5vFvLQniTKwoBR\"\n",
    "\n",
    "# Bismuth Node\n",
    "!ipfs swarm peering add \"/ip4/15.235.14.184/tcp/4001/p2p/12D3KooWEaVCpKd2MgZeLugvwCWRSQAMYWdu6wNG6SySQsgox8k5\""
   ]
  },
  {
   "cell_type": "code",
   "execution_count": null,
   "id": "7fc7ad11-7b84-47c4-a88d-c19bd1c76a0f",
   "metadata": {},
   "outputs": [],
   "source": [
    "!ipfs repo gc"
   ]
  },
  {
   "cell_type": "code",
   "execution_count": 7,
   "id": "d01740ff-ac10-4c47-a7d0-42b1b951737d",
   "metadata": {},
   "outputs": [
    {
     "name": "stdout",
     "output_type": "stream",
     "text": [
      "Imported all packages\n",
      "Loaded era5_100m_uwind\n",
      "Loaded era5_100m_vwind\n",
      "Sliced era5_100m_uwind\n",
      "Sliced era5_100m_vwind\n",
      "Subsetting data took 0.18 seconds\n",
      "DataFrame conversion took 77.69 seconds\n",
      "Total execution time: 90.78 seconds\n",
      "Done\n"
     ]
    }
   ],
   "source": [
    "import time\n",
    "import xarray as xr\n",
    "from py_hamt import HAMT, IPFSStore\n",
    "from multiformats import CID\n",
    "import pandas as pd\n",
    "import numpy as np\n",
    "import geopandas as gpd\n",
    "import fiona\n",
    "from geopy import geocoders \n",
    "from geopy.geocoders import Nominatim\n",
    "from geopy.exc import GeocoderTimedOut\n",
    "import simplekml\n",
    "from shapely.geometry import Point, Polygon, MultiPolygon, shape\n",
    "\n",
    "print(\"Imported all packages\")\n",
    "\n",
    "# Start timing\n",
    "start_time = time.perf_counter()\n",
    "\n",
    "# Root CID of the HAMT\n",
    "era5_100m_uwind_cid = \"bafyr4ic3bnbcemyxllvdwrz2jxeccxlyjqxllz3csqjwsf4ihapj4kundy\"\n",
    "era5_100m_vwind_cid = \"bafyr4ianhuujwxgivs7m3xk7t4k7xi4bqkivb4asjid26fa3bv4ssy5jqm\"\n",
    "\n",
    "era5_100m_uwind_root_cid = CID.decode(era5_100m_uwind_cid)\n",
    "era5_100m_vwind_root_cid = CID.decode(era5_100m_vwind_cid)\n",
    "\n",
    "# Create HAMT instance using the IPFSStore\n",
    "era5_100m_uwind_hamt = HAMT(store=IPFSStore(gateway_uri_stem=\"http://0.0.0.0:8080\"), root_node_id=era5_100m_uwind_root_cid)\n",
    "era5_100m_vwind_hamt = HAMT(store=IPFSStore(gateway_uri_stem=\"http://0.0.0.0:8080\"), root_node_id=era5_100m_vwind_root_cid)\n",
    "\n",
    "era5_100m_uwind = xr.open_zarr(store=era5_100m_uwind_hamt)\n",
    "print(\"Loaded era5_100m_uwind\")\n",
    "era5_100m_vwind = xr.open_zarr(store=era5_100m_vwind_hamt)\n",
    "print(\"Loaded era5_100m_vwind\")\n",
    "\n",
    "# Define geographic bounding box (Part of Central Texas)\n",
    "lat_min, lat_max = 30, 31  # Latitude range\n",
    "lon_min, lon_max = -100, -99  # Longitude range\n",
    "\n",
    "# Convert From -180,180 to 0,360 for ERA5\n",
    "def convert_longitude(lon):\n",
    "    return lon % 360 if lon >= 0 else (lon + 360) % 360\n",
    "\n",
    "lon_min, lon_max = convert_longitude(lon_min), convert_longitude(lon_max)\n",
    "\n",
    "# Define time range\n",
    "start_date = \"2020-12-30\"\n",
    "end_date = \"2020-12-31\"\n",
    "\n",
    "# Subset the data\n",
    "subset_start = time.perf_counter()\n",
    "\n",
    "subset_era5_100m_uwind = era5_100m_uwind.sel(\n",
    "    latitude=slice(lat_max, lat_min),\n",
    "    longitude=slice(lon_min, lon_max),\n",
    "    time=slice(start_date, end_date)\n",
    ")\n",
    "print(\"Sliced era5_100m_uwind\")\n",
    "\n",
    "subset_era5_100m_vwind = era5_100m_vwind.sel(\n",
    "    latitude=slice(lat_max, lat_min),\n",
    "    longitude=slice(lon_min, lon_max),\n",
    "    time=slice(start_date, end_date)\n",
    ")\n",
    "print(\"Sliced era5_100m_vwind\")\n",
    "\n",
    "subset_end = time.perf_counter()\n",
    "print(f\"Subsetting data took {subset_end - subset_start:.2f} seconds\")\n",
    "\n",
    "# Convert to DataFrame\n",
    "convert_start = time.perf_counter()\n",
    "\n",
    "df_u100 = subset_era5_100m_uwind['100m_u_component_of_wind'].to_dataframe().reset_index()\n",
    "df_v100 = subset_era5_100m_vwind['100m_v_component_of_wind'].to_dataframe().reset_index()\n",
    "\n",
    "df_u100 = df_u100.pivot(index='time', columns=['latitude', 'longitude'], values='100m_u_component_of_wind')\n",
    "df_v100 = df_v100.pivot(index='time', columns=['latitude', 'longitude'], values='100m_v_component_of_wind')\n",
    "\n",
    "df_u100.columns = [f\"({lat}, {lon})\" for lat, lon in df_u100.columns]\n",
    "df_v100.columns = [f\"({lat}, {lon})\" for lat, lon in df_v100.columns]\n",
    "\n",
    "convert_end = time.perf_counter()\n",
    "print(f\"DataFrame conversion took {convert_end - convert_start:.2f} seconds\")\n",
    "\n",
    "# End timing\n",
    "end_time = time.perf_counter()\n",
    "print(f\"Total execution time: {end_time - start_time:.2f} seconds\")\n",
    "\n",
    "print(\"Done\")"
   ]
  },
  {
   "cell_type": "code",
   "execution_count": null,
   "id": "d028cdcf-60ba-4e65-adef-7d20d664067c",
   "metadata": {},
   "outputs": [],
   "source": []
  }
 ],
 "metadata": {
  "kernelspec": {
   "display_name": "Python 3 (ipykernel)",
   "language": "python",
   "name": "python3"
  },
  "language_info": {
   "codemirror_mode": {
    "name": "ipython",
    "version": 3
   },
   "file_extension": ".py",
   "mimetype": "text/x-python",
   "name": "python",
   "nbconvert_exporter": "python",
   "pygments_lexer": "ipython3",
   "version": "3.12.7"
  }
 },
 "nbformat": 4,
 "nbformat_minor": 5
}
