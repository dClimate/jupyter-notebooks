{
 "cells": [
  {
   "cell_type": "markdown",
   "id": "4e185358-5d27-4ccb-8898-e53b07387a85",
   "metadata": {},
   "source": [
    "# Drone\n"
   ]
  },
  {
   "cell_type": "markdown",
   "id": "a5dc0d94",
   "metadata": {},
   "source": []
  }
 ],
 "metadata": {
  "kernelspec": {
   "display_name": "Python 3 (ipykernel)",
   "language": "python",
   "name": "python3"
  },
  "language_info": {
   "codemirror_mode": {
    "name": "ipython",
    "version": 3
   },
   "file_extension": ".py",
   "mimetype": "text/x-python",
   "name": "python",
   "nbconvert_exporter": "python",
   "pygments_lexer": "ipython3",
   "version": "3.12.7"
  }
 },
 "nbformat": 4,
 "nbformat_minor": 5
}
